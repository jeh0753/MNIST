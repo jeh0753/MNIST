{
 "cells": [
  {
   "cell_type": "code",
   "execution_count": 7,
   "metadata": {
    "collapsed": false
   },
   "outputs": [],
   "source": [
    "%matplotlib inline\n",
    "from __future__ import division,print_function\n",
    "#import math, os, json, sys, re\n",
    "#import cPickle as pickle\n",
    "#from glob import glob\n",
    "import numpy as np\n",
    "from matplotlib import pyplot as plt\n",
    "#from operator import itemgetter, attrgetter, methodcaller\n",
    "#from collections import OrderedDict\n",
    "import itertools\n",
    "#from itertools import chain\n",
    "\n",
    "import pandas as pd\n",
    "import PIL\n",
    "from PIL import Image\n",
    "#from numpy.random import random, permutation, randn, normal, uniform, choice\n",
    "#from numpy import newaxis\n",
    "import scipy\n",
    "from scipy import misc, ndimage\n",
    "#from scipy.ndimage.interpolation import zoom\n",
    "from scipy.ndimage import imread\n",
    "from sklearn.metrics import confusion_matrix\n",
    "import bcolz\n",
    "#from sklearn.preprocessing import OneHotEncoder\n",
    "#from sklearn.manifold import TSNE\n",
    "\n",
    "#from IPython.lib.display import FileLink\n",
    "\n",
    "import theano\n",
    "from theano import shared, tensor as T\n",
    "from theano.tensor.nnet import conv2d, nnet\n",
    "from theano.tensor.signal import pool\n",
    "\n",
    "import keras\n",
    "from keras import backend as K\n",
    "#from keras.utils.data_utils import get_file\n",
    "#from keras.utils import np_utils\n",
    "from keras.utils.np_utils import to_categorical\n",
    "from keras.models import Sequential, Model\n",
    "from keras.layers import Input, Embedding, Reshape, merge, LSTM, Bidirectional\n",
    "#from keras.layers import TimeDistributed, Activation, SimpleRNN, GRU\n",
    "from keras.layers.core import Flatten, Dense, Dropout, Lambda\n",
    "#from keras.regularizers import l2, activity_l2, l1, activity_l1\n",
    "from keras.layers.normalization import BatchNormalization\n",
    "from keras.optimizers import SGD, RMSprop, Adam\n",
    "#from keras.utils.layer_utils import layer_from_config\n",
    "from keras.metrics import categorical_crossentropy, categorical_accuracy\n",
    "from keras.layers.convolutional import *\n",
    "from keras.preprocessing import image, sequence\n",
    "#from keras.preprocessing.text import Tokenizer"
   ]
  },
  {
   "cell_type": "code",
   "execution_count": 2,
   "metadata": {
    "collapsed": true
   },
   "outputs": [],
   "source": [
    "from keras.datasets import mnist"
   ]
  },
  {
   "cell_type": "markdown",
   "metadata": {},
   "source": [
    "## Data setup"
   ]
  },
  {
   "cell_type": "code",
   "execution_count": 3,
   "metadata": {
    "collapsed": false
   },
   "outputs": [
    {
     "data": {
      "text/plain": [
       "((60000, 28, 28), (60000,), (10000, 28, 28), (10000,))"
      ]
     },
     "execution_count": 3,
     "metadata": {},
     "output_type": "execute_result"
    }
   ],
   "source": [
    "(X_train, y_train), (X_test, y_test) = mnist.load_data()\n",
    "\n",
    "(X_train.shape, y_train.shape, X_test.shape, y_test.shape)"
   ]
  },
  {
   "cell_type": "code",
   "execution_count": 4,
   "metadata": {
    "collapsed": true
   },
   "outputs": [],
   "source": [
    "X_train = np.expand_dims(X_train,1)\n",
    "y_train = np.expand_dims(y_train,1)\n",
    "X_test = np.expand_dims(X_test,1)\n",
    "y_test = np.expand_dims(y_test,1)"
   ]
  },
  {
   "cell_type": "code",
   "execution_count": 8,
   "metadata": {
    "collapsed": false
   },
   "outputs": [],
   "source": [
    "y_train = to_categorical(y_train)\n",
    "y_test = to_categorical(y_test)"
   ]
  },
  {
   "cell_type": "code",
   "execution_count": 9,
   "metadata": {
    "collapsed": true
   },
   "outputs": [],
   "source": [
    "tr_mean = X_train.mean().astype(np.float32())\n",
    "tr_std = X_train.std().astype(np.float32())\n",
    "def normalize(x): return (x-tr_mean)/tr_std"
   ]
  },
  {
   "cell_type": "code",
   "execution_count": 10,
   "metadata": {
    "collapsed": true
   },
   "outputs": [],
   "source": [
    "gen = image.ImageDataGenerator()"
   ]
  },
  {
   "cell_type": "code",
   "execution_count": 11,
   "metadata": {
    "collapsed": true
   },
   "outputs": [],
   "source": [
    "batches = gen.flow(X_train, y_train, batch_size=64)\n",
    "test_batches = gen.flow(X_test, y_test, batch_size=64)"
   ]
  },
  {
   "cell_type": "markdown",
   "metadata": {},
   "source": [
    "## Make a linear model\n",
    "\n"
   ]
  },
  {
   "cell_type": "code",
   "execution_count": 12,
   "metadata": {
    "collapsed": true
   },
   "outputs": [],
   "source": [
    "def make_linear_model():\n",
    "    model = Sequential([\n",
    "        Lambda(normalize,input_shape=(1,28,28)),\n",
    "        Flatten(),\n",
    "        Dense(10, activation='softmax')\n",
    "    ])\n",
    "    model.compile(Adam(),loss='categorical_crossentropy', metrics=['accuracy'])\n",
    "    return model"
   ]
  },
  {
   "cell_type": "code",
   "execution_count": 13,
   "metadata": {
    "collapsed": false
   },
   "outputs": [],
   "source": [
    "lm = make_linear_model()"
   ]
  },
  {
   "cell_type": "code",
   "execution_count": 14,
   "metadata": {
    "collapsed": false
   },
   "outputs": [
    {
     "name": "stdout",
     "output_type": "stream",
     "text": [
      "Epoch 1/5\n",
      "60000/60000 [==============================] - 12s - loss: 0.4326 - acc: 0.8737 - val_loss: 0.2969 - val_acc: 0.9128\n",
      "Epoch 2/5\n",
      "60000/60000 [==============================] - 11s - loss: 0.2993 - acc: 0.9147 - val_loss: 0.2843 - val_acc: 0.9167\n",
      "Epoch 3/5\n",
      "60000/60000 [==============================] - 11s - loss: 0.2850 - acc: 0.9200 - val_loss: 0.2824 - val_acc: 0.9186\n",
      "Epoch 4/5\n",
      "60000/60000 [==============================] - 11s - loss: 0.2783 - acc: 0.9221 - val_loss: 0.2817 - val_acc: 0.9219\n",
      "Epoch 5/5\n",
      "60000/60000 [==============================] - 12s - loss: 0.2724 - acc: 0.9241 - val_loss: 0.2776 - val_acc: 0.9219\n"
     ]
    },
    {
     "data": {
      "text/plain": [
       "<keras.callbacks.History at 0x7f88e2a0dd90>"
      ]
     },
     "execution_count": 14,
     "metadata": {},
     "output_type": "execute_result"
    }
   ],
   "source": [
    "lm.fit_generator(batches, batches.N,nb_epoch=5,validation_data=test_batches, nb_val_samples=test_batches.N)"
   ]
  },
  {
   "cell_type": "markdown",
   "metadata": {},
   "source": [
    "### Try out some different learning rates and epochs"
   ]
  },
  {
   "cell_type": "code",
   "execution_count": 15,
   "metadata": {
    "collapsed": true
   },
   "outputs": [],
   "source": [
    "K.set_value(lm.optimizer.lr,0.0001)"
   ]
  },
  {
   "cell_type": "code",
   "execution_count": 16,
   "metadata": {
    "collapsed": false
   },
   "outputs": [
    {
     "name": "stdout",
     "output_type": "stream",
     "text": [
      "Epoch 1/3\n",
      "60000/60000 [==============================] - 11s - loss: 0.2516 - acc: 0.9299 - val_loss: 0.2638 - val_acc: 0.9257\n",
      "Epoch 2/3\n",
      "60000/60000 [==============================] - 11s - loss: 0.2489 - acc: 0.9318 - val_loss: 0.2666 - val_acc: 0.9253\n",
      "Epoch 3/3\n",
      "60000/60000 [==============================] - 11s - loss: 0.2477 - acc: 0.9312 - val_loss: 0.2619 - val_acc: 0.9264\n"
     ]
    },
    {
     "data": {
      "text/plain": [
       "<keras.callbacks.History at 0x7f88e0be5590>"
      ]
     },
     "execution_count": 16,
     "metadata": {},
     "output_type": "execute_result"
    }
   ],
   "source": [
    "lm.fit_generator(batches, batches.N,nb_epoch=3,validation_data=test_batches, nb_val_samples=test_batches.N)"
   ]
  },
  {
   "cell_type": "markdown",
   "metadata": {},
   "source": [
    "## Make a Neural Net Model (Single dense hidden layer, Fully Connected)"
   ]
  },
  {
   "cell_type": "code",
   "execution_count": 17,
   "metadata": {
    "collapsed": true
   },
   "outputs": [],
   "source": [
    "def dense_model():\n",
    "    model = Sequential([\n",
    "        Lambda(normalize,input_shape=(1,28,28)),\n",
    "        Flatten(),\n",
    "        Dense(512, activation='relu'),\n",
    "        Dense(10, activation='softmax')\n",
    "    ])\n",
    "    model.compile(Adam(), loss='categorical_crossentropy', metrics=['accuracy'])\n",
    "    return model"
   ]
  },
  {
   "cell_type": "code",
   "execution_count": 18,
   "metadata": {
    "collapsed": false
   },
   "outputs": [],
   "source": [
    "dm = dense_model()"
   ]
  },
  {
   "cell_type": "code",
   "execution_count": 19,
   "metadata": {
    "collapsed": false
   },
   "outputs": [
    {
     "name": "stdout",
     "output_type": "stream",
     "text": [
      "Epoch 1/1\n",
      "60000/60000 [==============================] - 12s - loss: 0.1915 - acc: 0.9408 - val_loss: 0.0979 - val_acc: 0.9684\n"
     ]
    },
    {
     "data": {
      "text/plain": [
       "<keras.callbacks.History at 0x7f88dc2d07d0>"
      ]
     },
     "execution_count": 19,
     "metadata": {},
     "output_type": "execute_result"
    }
   ],
   "source": [
    "dm.fit_generator(batches, batches.N,nb_epoch=1, validation_data=test_batches, nb_val_samples=test_batches.N)"
   ]
  },
  {
   "cell_type": "markdown",
   "metadata": {},
   "source": [
    "### Try out some different learning rates and number of epochs"
   ]
  },
  {
   "cell_type": "code",
   "execution_count": 20,
   "metadata": {
    "collapsed": true
   },
   "outputs": [],
   "source": [
    "K.set_value(dm.optimizer.lr,0.0001)"
   ]
  },
  {
   "cell_type": "code",
   "execution_count": 21,
   "metadata": {
    "collapsed": false
   },
   "outputs": [
    {
     "name": "stdout",
     "output_type": "stream",
     "text": [
      "Epoch 1/3\n",
      "60000/60000 [==============================] - 12s - loss: 0.0602 - acc: 0.9824 - val_loss: 0.0727 - val_acc: 0.9768\n",
      "Epoch 2/3\n",
      "60000/60000 [==============================] - 12s - loss: 0.0468 - acc: 0.9871 - val_loss: 0.0614 - val_acc: 0.9809\n",
      "Epoch 3/3\n",
      "60000/60000 [==============================] - 12s - loss: 0.0396 - acc: 0.9894 - val_loss: 0.0642 - val_acc: 0.9803\n"
     ]
    },
    {
     "data": {
      "text/plain": [
       "<keras.callbacks.History at 0x7f88dc0cc690>"
      ]
     },
     "execution_count": 21,
     "metadata": {},
     "output_type": "execute_result"
    }
   ],
   "source": [
    "dm.fit_generator(batches, batches.N,nb_epoch=3, validation_data=test_batches, nb_val_samples=test_batches.N)"
   ]
  },
  {
   "cell_type": "markdown",
   "metadata": {},
   "source": [
    "Accuracy is much higher with a fully connected model. We are slightly overfitting here, with the higher training accuracy than validation accuracy"
   ]
  },
  {
   "cell_type": "markdown",
   "metadata": {},
   "source": [
    "## Make a CNN Model"
   ]
  },
  {
   "cell_type": "code",
   "execution_count": 22,
   "metadata": {
    "collapsed": true
   },
   "outputs": [],
   "source": [
    "def cnn_model():\n",
    "    model = Sequential([\n",
    "        Lambda(normalize,input_shape=(1,28,28)),\n",
    "        Convolution2D(64,3,3,activation='relu'),\n",
    "        MaxPooling2D(),\n",
    "        Convolution2D(124,3,3,activation='relu'),\n",
    "        MaxPooling2D(),\n",
    "        Flatten(),\n",
    "        Dense(512,activation='relu'),\n",
    "        Dense(10,activation='softmax')        \n",
    "    ])\n",
    "    model.compile(Adam(), loss='categorical_crossentropy', metrics=['accuracy'])\n",
    "    return model"
   ]
  },
  {
   "cell_type": "code",
   "execution_count": 23,
   "metadata": {
    "collapsed": false
   },
   "outputs": [],
   "source": [
    "cn = cnn_model()"
   ]
  },
  {
   "cell_type": "code",
   "execution_count": 24,
   "metadata": {
    "collapsed": false
   },
   "outputs": [
    {
     "name": "stdout",
     "output_type": "stream",
     "text": [
      "Epoch 1/1\n",
      "60000/60000 [==============================] - 17s - loss: 0.1027 - acc: 0.9687 - val_loss: 0.0394 - val_acc: 0.9868\n"
     ]
    },
    {
     "data": {
      "text/plain": [
       "<keras.callbacks.History at 0x7f88d409c2d0>"
      ]
     },
     "execution_count": 24,
     "metadata": {},
     "output_type": "execute_result"
    }
   ],
   "source": [
    "cn.fit_generator(batches, batches.N,nb_epoch=1, validation_data=test_batches, nb_val_samples=test_batches.N)"
   ]
  },
  {
   "cell_type": "markdown",
   "metadata": {},
   "source": [
    "learning rate defaults to 0.001"
   ]
  },
  {
   "cell_type": "markdown",
   "metadata": {},
   "source": [
    "### Try out some different learning rates and number of epochs:"
   ]
  },
  {
   "cell_type": "code",
   "execution_count": 25,
   "metadata": {
    "collapsed": false
   },
   "outputs": [],
   "source": [
    "K.set_value(cn.optimizer.lr, 0.00001)"
   ]
  },
  {
   "cell_type": "code",
   "execution_count": 26,
   "metadata": {
    "collapsed": false
   },
   "outputs": [
    {
     "name": "stdout",
     "output_type": "stream",
     "text": [
      "Epoch 1/3\n",
      "60000/60000 [==============================] - 18s - loss: 0.0249 - acc: 0.9923 - val_loss: 0.0252 - val_acc: 0.9921\n",
      "Epoch 2/3\n",
      "60000/60000 [==============================] - 17s - loss: 0.0201 - acc: 0.9940 - val_loss: 0.0234 - val_acc: 0.9925\n",
      "Epoch 3/3\n",
      "60000/60000 [==============================] - 17s - loss: 0.0183 - acc: 0.9946 - val_loss: 0.0250 - val_acc: 0.9919\n"
     ]
    },
    {
     "data": {
      "text/plain": [
       "<keras.callbacks.History at 0x7f88cef8c750>"
      ]
     },
     "execution_count": 26,
     "metadata": {},
     "output_type": "execute_result"
    }
   ],
   "source": [
    "cn.fit_generator(batches, batches.N,nb_epoch=3, validation_data=test_batches, nb_val_samples=test_batches.N)"
   ]
  },
  {
   "cell_type": "markdown",
   "metadata": {},
   "source": [
    "We are now getting fantastic accuracy, but overfitting."
   ]
  },
  {
   "cell_type": "markdown",
   "metadata": {},
   "source": [
    "## Data Augmentation"
   ]
  },
  {
   "cell_type": "markdown",
   "metadata": {},
   "source": [
    "Adding data augmentation will help strengthen our model and reduce overfitting (some overfitting seen above)"
   ]
  },
  {
   "cell_type": "code",
   "execution_count": 27,
   "metadata": {
    "collapsed": false
   },
   "outputs": [],
   "source": [
    "gen = image.ImageDataGenerator(rotation_range=5, width_shift_range=0.05, height_shift_range=0.05, zoom_range=0.08, shear_range=-0.05, channel_shift_range=0.1)"
   ]
  },
  {
   "cell_type": "code",
   "execution_count": 28,
   "metadata": {
    "collapsed": true
   },
   "outputs": [],
   "source": [
    "batches = gen.flow(X_train,y_train, batch_size=64)\n",
    "test_batches = gen.flow(X_test, y_test, batch_size=64)"
   ]
  },
  {
   "cell_type": "code",
   "execution_count": 29,
   "metadata": {
    "collapsed": false
   },
   "outputs": [
    {
     "name": "stdout",
     "output_type": "stream",
     "text": [
      "Epoch 1/1\n",
      "60000/60000 [==============================] - 21s - loss: 0.0539 - acc: 0.9827 - val_loss: 0.0467 - val_acc: 0.9835\n"
     ]
    },
    {
     "data": {
      "text/plain": [
       "<keras.callbacks.History at 0x7f88cef8c2d0>"
      ]
     },
     "execution_count": 29,
     "metadata": {},
     "output_type": "execute_result"
    }
   ],
   "source": [
    "cn.fit_generator(batches, batches.N,nb_epoch=1,validation_data=test_batches, nb_val_samples=test_batches.N)"
   ]
  },
  {
   "cell_type": "markdown",
   "metadata": {},
   "source": [
    "### Try out some different learning rates and number of epochs"
   ]
  },
  {
   "cell_type": "code",
   "execution_count": 30,
   "metadata": {
    "collapsed": true
   },
   "outputs": [],
   "source": [
    "K.set_value(cn.optimizer.lr,0.00001)"
   ]
  },
  {
   "cell_type": "code",
   "execution_count": 31,
   "metadata": {
    "collapsed": false
   },
   "outputs": [
    {
     "name": "stdout",
     "output_type": "stream",
     "text": [
      "Epoch 1/5\n",
      "60000/60000 [==============================] - 21s - loss: 0.0493 - acc: 0.9842 - val_loss: 0.0524 - val_acc: 0.9834\n",
      "Epoch 2/5\n",
      "60000/60000 [==============================] - 20s - loss: 0.0478 - acc: 0.9851 - val_loss: 0.0470 - val_acc: 0.9846\n",
      "Epoch 3/5\n",
      "60000/60000 [==============================] - 20s - loss: 0.0445 - acc: 0.9860 - val_loss: 0.0454 - val_acc: 0.9865\n",
      "Epoch 4/5\n",
      "60000/60000 [==============================] - 20s - loss: 0.0444 - acc: 0.9857 - val_loss: 0.0443 - val_acc: 0.9854\n",
      "Epoch 5/5\n",
      "60000/60000 [==============================] - 21s - loss: 0.0425 - acc: 0.9868 - val_loss: 0.0424 - val_acc: 0.9850\n"
     ]
    },
    {
     "data": {
      "text/plain": [
       "<keras.callbacks.History at 0x7f88cef8c9d0>"
      ]
     },
     "execution_count": 31,
     "metadata": {},
     "output_type": "execute_result"
    }
   ],
   "source": [
    "cn.fit_generator(batches, batches.N,nb_epoch=5,validation_data=test_batches, nb_val_samples=test_batches.N)"
   ]
  },
  {
   "cell_type": "markdown",
   "metadata": {},
   "source": [
    "Accuracy has gone down as a result of the data we've introduced. We should be able to get it back up with Batch Normalization"
   ]
  },
  {
   "cell_type": "markdown",
   "metadata": {},
   "source": [
    "### Lets see what our data looks like now"
   ]
  },
  {
   "cell_type": "markdown",
   "metadata": {},
   "source": [
    "I went through the steps below a series of times, tweaking the Image Generator parameters above until the numbers all looked like numbers that might truly exist in the dataset."
   ]
  },
  {
   "cell_type": "code",
   "execution_count": 36,
   "metadata": {
    "collapsed": true
   },
   "outputs": [],
   "source": [
    "images,labels = next(batches)"
   ]
  },
  {
   "cell_type": "code",
   "execution_count": 37,
   "metadata": {
    "collapsed": true
   },
   "outputs": [],
   "source": [
    "images = np.array(images)\n",
    "images = images.transpose(0,2,3,1) #batch channel width height -> batch width height channel\n",
    "images = np.squeeze(images) #removes the final dimension, which is required for matplotlib imread comman"
   ]
  },
  {
   "cell_type": "code",
   "execution_count": 38,
   "metadata": {
    "collapsed": true
   },
   "outputs": [],
   "source": [
    "def build_fig(images,nshow, rows):\n",
    "    fig = plt.figure()\n",
    "    for i in range(1,nshow+1):\n",
    "        a = fig.add_subplot(rows,nshow/rows,i)\n",
    "        a.axis('Off')\n",
    "        img = plt.imshow(images[i],cmap='gray')"
   ]
  },
  {
   "cell_type": "code",
   "execution_count": 39,
   "metadata": {
    "collapsed": false
   },
   "outputs": [
    {
     "data": {
      "image/png": "[encoded data removed]",
      "text/plain": [
       "<matplotlib.figure.Figure at 0x7f88ce086310>"
      ]
     },
     "metadata": {},
     "output_type": "display_data"
    }
   ],
   "source": [
    "build_fig(images,24,6)"
   ]
  },
  {
   "cell_type": "markdown",
   "metadata": {},
   "source": [
    "I adjusted the ImageDataGenerator parameters until these all looked like numbers again"
   ]
  },
  {
   "cell_type": "markdown",
   "metadata": {},
   "source": [
    "## Batch Normalization"
   ]
  },
  {
   "cell_type": "markdown",
   "metadata": {},
   "source": [
    "It is debatable whether data augmentation should be used in concert with Batch Normalization, but for the purposes of this excercise, I will use both. Because Batch Normalization trains a model much faster (requires fewer epochs), it sees the training data fewer times, which reduces the likelihood of overfitting. So less data (aka a higher percentage of 'real' data) is providing more accurate results. "
   ]
  },
  {
   "cell_type": "code",
   "execution_count": 40,
   "metadata": {
    "collapsed": true
   },
   "outputs": [],
   "source": [
    "def make_cnn_bn():\n",
    "    model = Sequential([\n",
    "        Lambda(normalize,input_shape=(1,28,28)),\n",
    "        Convolution2D(64,3,3, activation='relu'),\n",
    "        MaxPooling2D(),\n",
    "        BatchNormalization(axis=1),\n",
    "        Convolution2D(128,3,3, activation='relu'),\n",
    "        MaxPooling2D(),\n",
    "        Flatten(),\n",
    "        BatchNormalization(),\n",
    "        Dense(100,activation='relu'),\n",
    "        BatchNormalization(axis=1),\n",
    "        Dense(10, activation='softmax')\n",
    "    ])\n",
    "    model.compile(Adam(),loss='categorical_crossentropy', metrics=['accuracy'])\n",
    "    return model"
   ]
  },
  {
   "cell_type": "code",
   "execution_count": 41,
   "metadata": {
    "collapsed": false
   },
   "outputs": [],
   "source": [
    "bnm = make_cnn_bn()"
   ]
  },
  {
   "cell_type": "code",
   "execution_count": 42,
   "metadata": {
    "collapsed": false
   },
   "outputs": [
    {
     "name": "stdout",
     "output_type": "stream",
     "text": [
      "Epoch 1/1\n",
      "60000/60000 [==============================] - 30s - loss: 0.1253 - acc: 0.9620 - val_loss: 0.0493 - val_acc: 0.9837\n"
     ]
    },
    {
     "data": {
      "text/plain": [
       "<keras.callbacks.History at 0x7f88c25b2810>"
      ]
     },
     "execution_count": 42,
     "metadata": {},
     "output_type": "execute_result"
    }
   ],
   "source": [
    "bnm.fit_generator(batches,batches.N,nb_epoch=1, validation_data=test_batches, nb_val_samples=test_batches.N)"
   ]
  },
  {
   "cell_type": "markdown",
   "metadata": {},
   "source": [
    "### Try out some different learning rates and number of epochs"
   ]
  },
  {
   "cell_type": "code",
   "execution_count": 43,
   "metadata": {
    "collapsed": true
   },
   "outputs": [],
   "source": [
    "K.set_value(bnm.optimizer.lr,0.0001)"
   ]
  },
  {
   "cell_type": "code",
   "execution_count": 44,
   "metadata": {
    "collapsed": false
   },
   "outputs": [
    {
     "name": "stdout",
     "output_type": "stream",
     "text": [
      "Epoch 1/8\n",
      "60000/60000 [==============================] - 30s - loss: 0.0503 - acc: 0.9849 - val_loss: 0.0376 - val_acc: 0.9880\n",
      "Epoch 2/8\n",
      "60000/60000 [==============================] - 31s - loss: 0.0413 - acc: 0.9876 - val_loss: 0.0318 - val_acc: 0.9897\n",
      "Epoch 3/8\n",
      "60000/60000 [==============================] - 30s - loss: 0.0364 - acc: 0.9894 - val_loss: 0.0338 - val_acc: 0.9899\n",
      "Epoch 4/8\n",
      "60000/60000 [==============================] - 29s - loss: 0.0330 - acc: 0.9903 - val_loss: 0.0303 - val_acc: 0.9905\n",
      "Epoch 5/8\n",
      "60000/60000 [==============================] - 29s - loss: 0.0311 - acc: 0.9902 - val_loss: 0.0285 - val_acc: 0.9909\n",
      "Epoch 6/8\n",
      "60000/60000 [==============================] - 30s - loss: 0.0295 - acc: 0.9911 - val_loss: 0.0274 - val_acc: 0.9915\n",
      "Epoch 7/8\n",
      "60000/60000 [==============================] - 29s - loss: 0.0280 - acc: 0.9917 - val_loss: 0.0263 - val_acc: 0.9910\n",
      "Epoch 8/8\n",
      "60000/60000 [==============================] - 30s - loss: 0.0253 - acc: 0.9925 - val_loss: 0.0273 - val_acc: 0.9929\n"
     ]
    },
    {
     "data": {
      "text/plain": [
       "<keras.callbacks.History at 0x7f88c15b47d0>"
      ]
     },
     "execution_count": 44,
     "metadata": {},
     "output_type": "execute_result"
    }
   ],
   "source": [
    "bnm.fit_generator(batches,batches.N,nb_epoch=10, validation_data=test_batches, nb_val_samples=test_batches.N)"
   ]
  },
  {
   "cell_type": "markdown",
   "metadata": {},
   "source": [
    "It looks like our model has been able to recover relatively high accuracy. After many epochs we are able to get to overfitting again -- and now we should bring in Dropout to compensate."
   ]
  },
  {
   "cell_type": "markdown",
   "metadata": {},
   "source": [
    "## Add in Dropout"
   ]
  },
  {
   "cell_type": "code",
   "execution_count": 45,
   "metadata": {
    "collapsed": true
   },
   "outputs": [],
   "source": [
    "def make_cnn_bn_dropout():\n",
    "    model = Sequential([\n",
    "        Lambda(normalize,input_shape=(1,28,28)),\n",
    "        Convolution2D(64,3,3, activation='relu'),\n",
    "        MaxPooling2D(),\n",
    "        BatchNormalization(axis=1),\n",
    "        Convolution2D(128,3,3, activation='relu'),\n",
    "        MaxPooling2D(),\n",
    "        Flatten(),\n",
    "        BatchNormalization(),\n",
    "        Dropout(0.2),\n",
    "        Dense(100,activation='relu'),\n",
    "        BatchNormalization(axis=1),\n",
    "        Dropout(0.2),\n",
    "        Dense(10, activation='softmax')\n",
    "    ])\n",
    "    model.compile(Adam(),loss='categorical_crossentropy', metrics=['accuracy'])\n",
    "    return model"
   ]
  },
  {
   "cell_type": "code",
   "execution_count": 46,
   "metadata": {
    "collapsed": false
   },
   "outputs": [],
   "source": [
    "bnmd = make_cnn_bn_dropout()"
   ]
  },
  {
   "cell_type": "code",
   "execution_count": 48,
   "metadata": {
    "collapsed": false
   },
   "outputs": [
    {
     "name": "stdout",
     "output_type": "stream",
     "text": [
      "Epoch 1/8\n",
      "60000/60000 [==============================] - 31s - loss: 0.0371 - acc: 0.9881 - val_loss: 0.0294 - val_acc: 0.9905\n",
      "Epoch 2/8\n",
      "60000/60000 [==============================] - 30s - loss: 0.0377 - acc: 0.9883 - val_loss: 0.0348 - val_acc: 0.9897\n",
      "Epoch 3/8\n",
      "60000/60000 [==============================] - 31s - loss: 0.0378 - acc: 0.9881 - val_loss: 0.0268 - val_acc: 0.9908\n",
      "Epoch 4/8\n",
      "60000/60000 [==============================] - 32s - loss: 0.0343 - acc: 0.9889 - val_loss: 0.0298 - val_acc: 0.9903\n",
      "Epoch 5/8\n",
      "60000/60000 [==============================] - 65s - loss: 0.0329 - acc: 0.9900 - val_loss: 0.0253 - val_acc: 0.9916\n",
      "Epoch 6/8\n",
      "60000/60000 [==============================] - 92s - loss: 0.0328 - acc: 0.9896 - val_loss: 0.0270 - val_acc: 0.9919\n",
      "Epoch 7/8\n",
      "60000/60000 [==============================] - 92s - loss: 0.0317 - acc: 0.9899 - val_loss: 0.0255 - val_acc: 0.9916\n",
      "Epoch 8/8\n",
      "60000/60000 [==============================] - 93s - loss: 0.0302 - acc: 0.9903 - val_loss: 0.0222 - val_acc: 0.9926\n"
     ]
    },
    {
     "data": {
      "text/plain": [
       "<keras.callbacks.History at 0x7f88bd90f950>"
      ]
     },
     "execution_count": 48,
     "metadata": {},
     "output_type": "execute_result"
    }
   ],
   "source": [
    "bnmd.fit_generator(batches,batches.N,nb_epoch=8, validation_data=test_batches, nb_val_samples=test_batches.N)"
   ]
  },
  {
   "cell_type": "markdown",
   "metadata": {},
   "source": [
    "## Ensemble Version of the Model"
   ]
  },
  {
   "cell_type": "markdown",
   "metadata": {},
   "source": [
    "For the sake of making this faster to run, I have made the ensemble model relatively small. "
   ]
  },
  {
   "cell_type": "code",
   "execution_count": 51,
   "metadata": {
    "collapsed": true
   },
   "outputs": [],
   "source": [
    "def final_models():\n",
    "    model = make_cnn_bn_dropout()\n",
    "    K.set_value(model.optimizer.lr,0.1)\n",
    "    model.fit_generator(batches,batches.N,nb_epoch=1,validation_data=test_batches,nb_val_samples=test_batches.N)\n",
    "    K.set_value(model.optimizer.lr,0.01)\n",
    "    model.fit_generator(batches,batches.N,nb_epoch=2,validation_data=test_batches,nb_val_samples=test_batches.N)\n",
    "    K.set_value(model.optimizer.lr,0.001)\n",
    "    model.fit_generator(batches,batches.N,nb_epoch=3,validation_data=test_batches,nb_val_samples=test_batches.N)\n",
    "    K.set_value(model.optimizer.lr,0.0001)\n",
    "    model.fit_generator(batches,batches.N,nb_epoch=4,validation_data=test_batches,nb_val_samples=test_batches.N)\n",
    "    return model"
   ]
  },
  {
   "cell_type": "code",
   "execution_count": 52,
   "metadata": {
    "collapsed": false
   },
   "outputs": [
    {
     "name": "stdout",
     "output_type": "stream",
     "text": [
      "Epoch 1/1\n",
      "60000/60000 [==============================] - 94s - loss: 0.4066 - acc: 0.9031 - val_loss: 0.4723 - val_acc: 0.9301\n",
      "Epoch 1/2\n",
      "60000/60000 [==============================] - 94s - loss: 0.1475 - acc: 0.9619 - val_loss: 0.0664 - val_acc: 0.9813\n",
      "Epoch 2/2\n",
      "60000/60000 [==============================] - 110s - loss: 0.1002 - acc: 0.9700 - val_loss: 0.0638 - val_acc: 0.9793\n",
      "Epoch 1/3\n",
      "60000/60000 [==============================] - 94s - loss: 0.0848 - acc: 0.9737 - val_loss: 0.0514 - val_acc: 0.9848\n",
      "Epoch 2/3\n",
      "60000/60000 [==============================] - 94s - loss: 0.0807 - acc: 0.9745 - val_loss: 0.0541 - val_acc: 0.9845\n",
      "Epoch 3/3\n",
      "60000/60000 [==============================] - 94s - loss: 0.0761 - acc: 0.9762 - val_loss: 0.0442 - val_acc: 0.9854\n",
      "Epoch 1/4\n",
      "60000/60000 [==============================] - 94s - loss: 0.0772 - acc: 0.9759 - val_loss: 0.0420 - val_acc: 0.9858\n",
      "Epoch 2/4\n",
      "60000/60000 [==============================] - 93s - loss: 0.0731 - acc: 0.9768 - val_loss: 0.0470 - val_acc: 0.9867\n",
      "Epoch 3/4\n",
      "60000/60000 [==============================] - 94s - loss: 0.0737 - acc: 0.9769 - val_loss: 0.0484 - val_acc: 0.9857\n",
      "Epoch 4/4\n",
      "60000/60000 [==============================] - 103s - loss: 0.0734 - acc: 0.9780 - val_loss: 0.0442 - val_acc: 0.9865\n",
      "Epoch 1/1\n",
      "60000/60000 [==============================] - 128s - loss: 0.4318 - acc: 0.8928 - val_loss: 0.2783 - val_acc: 0.9497\n",
      "Epoch 1/2\n",
      "60000/60000 [==============================] - 129s - loss: 0.1445 - acc: 0.9630 - val_loss: 0.0654 - val_acc: 0.9795\n",
      "Epoch 2/2\n",
      "60000/60000 [==============================] - 128s - loss: 0.0945 - acc: 0.9704 - val_loss: 0.0522 - val_acc: 0.9832\n",
      "Epoch 1/3\n",
      "60000/60000 [==============================] - 129s - loss: 0.0843 - acc: 0.9742 - val_loss: 0.0528 - val_acc: 0.9829\n",
      "Epoch 2/3\n",
      "60000/60000 [==============================] - 101s - loss: 0.0786 - acc: 0.9757 - val_loss: 0.0446 - val_acc: 0.9854\n",
      "Epoch 3/3\n",
      "60000/60000 [==============================] - 128s - loss: 0.0770 - acc: 0.9758 - val_loss: 0.0442 - val_acc: 0.9858\n",
      "Epoch 1/4\n",
      "60000/60000 [==============================] - 128s - loss: 0.0753 - acc: 0.9766 - val_loss: 0.0452 - val_acc: 0.9851\n",
      "Epoch 2/4\n",
      "60000/60000 [==============================] - 128s - loss: 0.0757 - acc: 0.9768 - val_loss: 0.0441 - val_acc: 0.9861\n",
      "Epoch 3/4\n",
      "60000/60000 [==============================] - 129s - loss: 0.0753 - acc: 0.9765 - val_loss: 0.0426 - val_acc: 0.9866\n",
      "Epoch 4/4\n",
      "60000/60000 [==============================] - 128s - loss: 0.0729 - acc: 0.9775 - val_loss: 0.0486 - val_acc: 0.9856\n",
      "Epoch 1/1\n",
      "60000/60000 [==============================] - 129s - loss: 0.4062 - acc: 0.8980 - val_loss: 0.3650 - val_acc: 0.9200\n",
      "Epoch 1/2\n",
      "60000/60000 [==============================] - 125s - loss: 0.1370 - acc: 0.9613 - val_loss: 0.0805 - val_acc: 0.9759\n",
      "Epoch 2/2\n",
      "60000/60000 [==============================] - 121s - loss: 0.1032 - acc: 0.9680 - val_loss: 0.0875 - val_acc: 0.9827\n",
      "Epoch 1/3\n",
      "60000/60000 [==============================] - 128s - loss: 0.0898 - acc: 0.9724 - val_loss: 0.0763 - val_acc: 0.9822\n",
      "Epoch 2/3\n",
      "60000/60000 [==============================] - 48s - loss: 0.0840 - acc: 0.9744 - val_loss: 0.0712 - val_acc: 0.9831\n",
      "Epoch 3/3\n",
      "60000/60000 [==============================] - 31s - loss: 0.0814 - acc: 0.9752 - val_loss: 0.0607 - val_acc: 0.9842\n",
      "Epoch 1/4\n",
      "60000/60000 [==============================] - 32s - loss: 0.0797 - acc: 0.9747 - val_loss: 0.0670 - val_acc: 0.9851\n",
      "Epoch 2/4\n",
      "60000/60000 [==============================] - 31s - loss: 0.0788 - acc: 0.9763 - val_loss: 0.0728 - val_acc: 0.9833\n",
      "Epoch 3/4\n",
      "60000/60000 [==============================] - 31s - loss: 0.0786 - acc: 0.9762 - val_loss: 0.0736 - val_acc: 0.9850\n",
      "Epoch 4/4\n",
      "60000/60000 [==============================] - 123s - loss: 0.0767 - acc: 0.9760 - val_loss: 0.0736 - val_acc: 0.9842\n"
     ]
    }
   ],
   "source": [
    "models = [final_models() for i in range(3)]"
   ]
  },
  {
   "cell_type": "code",
   "execution_count": 54,
   "metadata": {
    "collapsed": false
   },
   "outputs": [],
   "source": [
    "for item, m in enumerate(models):\n",
    "    m.save_weights('mnist-ensembled-'+str(item)+'.pk1')"
   ]
  },
  {
   "cell_type": "code",
   "execution_count": 55,
   "metadata": {
    "collapsed": false
   },
   "outputs": [
    {
     "name": "stdout",
     "output_type": "stream",
     "text": [
      "10000/10000 [==============================] - 2s     \n",
      "10000/10000 [==============================] - 2s     \n",
      "10000/10000 [==============================] - 2s     \n"
     ]
    }
   ],
   "source": [
    "evals = np.array([m.evaluate(X_test, y_test, batch_size=256) for m in models])"
   ]
  },
  {
   "cell_type": "code",
   "execution_count": 56,
   "metadata": {
    "collapsed": false
   },
   "outputs": [
    {
     "data": {
      "text/plain": [
       "array([ 0.03524175,  0.99086667])"
      ]
     },
     "execution_count": 56,
     "metadata": {},
     "output_type": "execute_result"
    }
   ],
   "source": [
    "evals.mean(axis=0)"
   ]
  },
  {
   "cell_type": "code",
   "execution_count": 57,
   "metadata": {
    "collapsed": true
   },
   "outputs": [],
   "source": [
    "all_preds = np.stack([m.predict(X_test, batch_size=256) for m in models])"
   ]
  },
  {
   "cell_type": "code",
   "execution_count": 58,
   "metadata": {
    "collapsed": false
   },
   "outputs": [
    {
     "data": {
      "text/plain": [
       "(3, 10000, 10)"
      ]
     },
     "execution_count": 58,
     "metadata": {},
     "output_type": "execute_result"
    }
   ],
   "source": [
    "all_preds.shape"
   ]
  },
  {
   "cell_type": "code",
   "execution_count": 59,
   "metadata": {
    "collapsed": true
   },
   "outputs": [],
   "source": [
    "avg_preds = all_preds.mean(axis=0)"
   ]
  },
  {
   "cell_type": "code",
   "execution_count": 60,
   "metadata": {
    "collapsed": false
   },
   "outputs": [
    {
     "data": {
      "text/plain": [
       "array(0.9936000108718872, dtype=float32)"
      ]
     },
     "execution_count": 60,
     "metadata": {},
     "output_type": "execute_result"
    }
   ],
   "source": [
    "keras.metrics.categorical_accuracy(y_test, avg_preds).eval()"
   ]
  },
  {
   "cell_type": "code",
   "execution_count": null,
   "metadata": {
    "collapsed": true
   },
   "outputs": [],
   "source": []
  }
 ],
 "metadata": {
  "anaconda-cloud": {},
  "kernelspec": {
   "display_name": "Python [default]",
   "language": "python",
   "name": "python2"
  },
  "language_info": {
   "codemirror_mode": {
    "name": "ipython",
    "version": 2
   },
   "file_extension": ".py",
   "mimetype": "text/x-python",
   "name": "python",
   "nbconvert_exporter": "python",
   "pygments_lexer": "ipython2",
   "version": "2.7.12"
  }
 },
 "nbformat": 4,
 "nbformat_minor": 2
}
